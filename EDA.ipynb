{
 "cells": [
  {
   "cell_type": "markdown",
   "metadata": {},
   "source": [
    "# Загрузка и первичный препроцессинг данных"
   ]
  },
  {
   "cell_type": "code",
   "execution_count": null,
   "metadata": {},
   "outputs": [],
   "source": [
    "import pandas as pd\n",
    "import numpy as np\n",
    "\n",
    "from my_functions import *\n",
    "\n",
    "import logging\n",
    "import datetime\n",
    "\n",
    "import numpy as np\n",
    "import seaborn as sns\n",
    "\n",
    "import itertools\n",
    "\n",
    "import matplotlib.pyplot as plt\n",
    "import matplotlib as mpl\n",
    "import pickle\n",
    "\n",
    "from scipy.spatial.distance import pdist\n",
    "from scipy.cluster.hierarchy import *\n",
    "import matplotlib.pyplot as plt\n",
    "from matplotlib import rc\n",
    "from sklearn.cluster import KMeans\n",
    "from sklearn.cluster import AgglomerativeClustering\n",
    "from pandas.plotting import scatter_matrix\n",
    "\n",
    "import seaborn as sns\n",
    "sns.set(font_scale=1.4)\n",
    "\n",
    "import warnings\n",
    "warnings.filterwarnings('ignore')\n",
    "pd.set_option('display.max_columns', None)"
   ]
  },
  {
   "cell_type": "code",
   "execution_count": null,
   "metadata": {},
   "outputs": [],
   "source": [
    "# Set notebook style in HTML\n",
    "from IPython.core.display import display, HTML\n",
    "display(HTML(\"<style>.container { width:80% !important; }</style>\"))"
   ]
  },
  {
   "cell_type": "code",
   "execution_count": null,
   "metadata": {},
   "outputs": [],
   "source": [
    "df_list = []\n",
    "for fpath in ['../data/agents2019.csv', '../data/agents2020.csv', '../data/agents2021.csv']:\n",
    "    df_list.append(pd.read_csv(fpath))"
   ]
  },
  {
   "cell_type": "code",
   "execution_count": null,
   "metadata": {},
   "outputs": [],
   "source": [
    "df_list[0].head(5)"
   ]
  },
  {
   "cell_type": "code",
   "execution_count": null,
   "metadata": {},
   "outputs": [],
   "source": [
    "df_list[1].head(5)"
   ]
  },
  {
   "cell_type": "code",
   "execution_count": null,
   "metadata": {},
   "outputs": [],
   "source": [
    "df_list[2].head(5)"
   ]
  },
  {
   "cell_type": "markdown",
   "metadata": {},
   "source": [
    "## Препроцессинг данных за 2021 год"
   ]
  },
  {
   "cell_type": "code",
   "execution_count": null,
   "metadata": {},
   "outputs": [],
   "source": [
    "df_2021 = df_list[2].copy()"
   ]
  },
  {
   "cell_type": "code",
   "execution_count": null,
   "metadata": {},
   "outputs": [],
   "source": [
    "df_2021 = df_2021.drop(columns=['Unnamed: 0'])\n",
    "df_2021.index = df_2021['Наименование ДП']\n",
    "rename_dict = {'Факт.32':'Факт 32',\n",
    "               'Факт.31':'Факт 31',\n",
    "            'Факт.23':'Факт 23'}\n",
    "df_2021 = df_2021.rename(columns=rename_dict)\n",
    "df_2021 = rename_cols(df_2021)"
   ]
  },
  {
   "cell_type": "code",
   "execution_count": null,
   "metadata": {},
   "outputs": [],
   "source": [
    "df_2021['кол_во_раз_пдз_за_2021_год_шт'] = 0\n",
    "for idx in df_2021.index:\n",
    "    for col_name in ['пдз_1_30', 'пдз_31_90', 'пдз_91_365', 'пдз_более_365']:\n",
    "        df_2021.loc[idx,'кол_во_раз_пдз_за_2021_год_шт'] += df_2021.loc[idx,col_name]"
   ]
  },
  {
   "cell_type": "code",
   "execution_count": null,
   "metadata": {},
   "outputs": [],
   "source": [
    "#Генерация оборачиваемости дебиторской задолженности (год_ОДЗ)\n",
    "df_2021['2020_одз'] = (2*df_2021['2020_выручка_rub'] /(df_2021['2019_дебиторская_задолженность_rub'] + df_2021['2020_дебиторская_задолженность_rub']))\n",
    "df_2021['2019_одз'] = (2*df_2021['2019_выручка_rub'] /(df_2021['2018_дебиторская_задолженность_rub'] + df_2021['2019_дебиторская_задолженность_rub']))\n",
    "df_2021['2018_одз'] = (2*df_2021['2018_выручка_rub'] /(df_2021['2017_дебиторская_задолженность_rub'] + df_2021['2018_дебиторская_задолженность_rub']))\n",
    "df_2021['2017_одз'] = (2*df_2021['2017_выручка_rub'] /(df_2021['2016_дебиторская_задолженность_rub'] + df_2021['2017_дебиторская_задолженность_rub']))\n",
    "\n",
    "#Генерация периода погошения дебиторской задолженности (год_пгдз)\n",
    "df_2021['2020_пгдз'] = 360 / df_2021['2020_одз']\n",
    "df_2021['2019_пгдз'] = 360 / df_2021['2019_одз']\n",
    "df_2021['2017_пгдз'] = 360 / df_2021['2018_одз']\n",
    "df_2021['2018_пгдз'] = 360 / df_2021['2017_одз']\n",
    "\n",
    "#Генерация признака доля дебиторской задолженности в оборотных активах (год_ддзоа)\n",
    "df_2021['2020_ддзоа'] = df_2021['2020_дебиторская_задолженность_rub'] / df_2021['2020_оборотные_активы_rub']\n",
    "df_2021['2019_ддзоа'] = df_2021['2019_дебиторская_задолженность_rub'] / df_2021['2019_оборотные_активы_rub']\n",
    "df_2021['2018_ддзоа'] = df_2021['2018_дебиторская_задолженность_rub'] / df_2021['2018_оборотные_активы_rub']\n",
    "df_2021['2017_ддзоа'] = df_2021['2017_дебиторская_задолженность_rub'] / df_2021['2017_оборотные_активы_rub']\n",
    "df_2021['2016_ддзоа'] = df_2021['2016_дебиторская_задолженность_rub'] / df_2021['2016_оборотные_активы_rub']\n",
    "\n",
    "#Пятифакторная модель Альтамана для компаний (оценка банкротсвта)\n",
    "#X1 = Оборотный капитал / Активы = (оборотные_активы_rub - краткосрочные_обязательства_rub) / (внеоборотные_активы_rub + оборотные_активы_rub + нематериальные_активы_rub)\n",
    "#X2 = Нераспределенная прибыль(Чистая прибыль) / Активы = прибыль_убыток_от_продажи_rub / (внеоборотные_активы_rub + оборотные_активы_rub + нематериальные_активы_rub)\n",
    "#X3 = Операционная прибыль(Прибыль до налогообложения) / Активы = прибыль_убыток_до_налогообложения__rub / (внеоборотные_активы_rub + оборотные_активы_rub + нематериальные_активы_rub)\n",
    "#X4 = Балансовая стоимость собственного капитала / Заёмный капитал = (уставный_капитал__rub + прибыль_убыток_от_продажи_rub) / (заёмные_средства_долгосрочные_rub + заёмные_средства_краткосрочные_rub)\n",
    "#X5 = Выручка / Активы = выручка_rub / (внеоборотные_активы_rub + оборотные_активы_rub + нематериальные_активы_rub)\n",
    "\n",
    "#Модель Альтамана для компаний 2016 год\n",
    "AKTIVS = (df_2021['2016_внеоборотные_активы_rub'] + df_2021['2016_оборотные_активы_rub'] + df_2021['2016_нематериальные_активы_rub'])\n",
    "X1 = (df_2021['2016_оборотные_активы_rub'] - df_2021['2016_краткосрочные_обязательства_rub']) / AKTIVS\n",
    "X2 = df_2021['2016_прибыль_убыток_от_продажи_rub'] / AKTIVS\n",
    "X3 = df_2021['2016_прибыль_убыток_до_налогообложения__rub'] / AKTIVS\n",
    "X4 = (df_2021['2016_уставный_капитал__rub'] + df_2021['2016_прибыль_убыток_от_продажи_rub']) / (df_2021['2016_заёмные_средства_долгосрочные_rub'] + df_2021['2016_заёмные_средства_краткосрочные_rub'])\n",
    "X5 = df_2021['2016_выручка_rub'] / AKTIVS\n",
    "df_2021['2016_Z'] = 0.717 * X1 + 0.847 * X2 + 3.107 * X3 + 0.420 * X4 + 0.998 * X5\n",
    "\n",
    "#Модель Альтамана для компаний 2017 год\n",
    "AKTIVS = (df_2021['2017_внеоборотные_активы_rub'] + df_2021['2017_оборотные_активы_rub'] + df_2021['2017_нематериальные_активы_rub'])\n",
    "X1 = (df_2021['2017_оборотные_активы_rub'] - df_2021['2017_краткосрочные_обязательства_rub']) / AKTIVS\n",
    "X2 = df_2021['2017_прибыль_убыток_от_продажи_rub'] / AKTIVS\n",
    "X3 = df_2021['2017_прибыль_убыток_до_налогообложения__rub'] / AKTIVS\n",
    "X4 = (df_2021['2017_уставный_капитал__rub'] + df_2021['2017_прибыль_убыток_от_продажи_rub']) / (df_2021['2017_заёмные_средства_долгосрочные_rub'] + df_2021['2017_заёмные_средства_краткосрочные_rub'])\n",
    "X5 = df_2021['2017_выручка_rub'] / AKTIVS\n",
    "df_2021['2017_Z'] = 0.717 * X1 + 0.847 * X2 + 3.107 * X3 + 0.420 * X4 + 0.998 * X5\n",
    "\n",
    "#Модель Альтамана для компаний 2018 год\n",
    "AKTIVS = (df_2021['2018_внеоборотные_активы_rub'] + df_2021['2018_оборотные_активы_rub'] + df_2021['2018_нематериальные_активы_rub'])\n",
    "X1 = (df_2021['2018_оборотные_активы_rub'] - df_2021['2018_краткосрочные_обязательства_rub']) / AKTIVS\n",
    "X2 = df_2021['2018_прибыль_убыток_от_продажи_rub'] / AKTIVS\n",
    "X3 = df_2021['2018_прибыль_убыток_до_налогообложения__rub'] / AKTIVS\n",
    "X4 = (df_2021['2018_уставный_капитал__rub'] + df_2021['2018_прибыль_убыток_от_продажи_rub']) / (df_2021['2018_заёмные_средства_долгосрочные_rub'] + df_2021['2018_заёмные_средства_краткосрочные_rub'])\n",
    "X5 = df_2021['2018_выручка_rub'] / AKTIVS\n",
    "df_2021['2018_Z'] = 0.717 * X1 + 0.847 * X2 + 3.107 * X3 + 0.420 * X4 + 0.998 * X5\n",
    "\n",
    "#Модель Альтамана для компаний 2019 год\n",
    "AKTIVS = (df_2021['2019_внеоборотные_активы_rub'] + df_2021['2019_оборотные_активы_rub'] + df_2021['2019_нематериальные_активы_rub'])\n",
    "X1 = (df_2021['2019_оборотные_активы_rub'] - df_2021['2019_краткосрочные_обязательства_rub']) / AKTIVS\n",
    "X2 = df_2021['2019_прибыль_убыток_от_продажи_rub'] / AKTIVS\n",
    "X3 = df_2021['2019_прибыль_убыток_до_налогообложения__rub'] / AKTIVS\n",
    "X4 = (df_2021['2019_уставный_капитал__rub'] + df_2021['2019_прибыль_убыток_от_продажи_rub']) / (df_2021['2019_заёмные_средства_долгосрочные_rub'] + df_2021['2019_заёмные_средства_краткосрочные_rub'])\n",
    "X5 = df_2021['2019_выручка_rub'] / AKTIVS\n",
    "df_2021['2019_Z'] = 0.717 * X1 + 0.847 * X2 + 3.107 * X3 + 0.420 * X4 + 0.998 * X5\n",
    "\n",
    "#Модель Альтамана для компаний 2020 год\n",
    "AKTIVS = (df_2021['2020_внеоборотные_активы_rub'] + df_2021['2020_оборотные_активы_rub'] + df_2021['2020_нематериальные_активы_rub'])\n",
    "X1 = (df_2021['2020_оборотные_активы_rub'] - df_2021['2020_краткосрочные_обязательства_rub']) / AKTIVS\n",
    "X2 = df_2021['2020_прибыль_убыток_от_продажи_rub'] / AKTIVS\n",
    "X3 = df_2021['2020_прибыль_убыток_до_налогообложения__rub'] / AKTIVS\n",
    "X4 = (df_2021['2020_уставный_капитал__rub'] + df_2021['2020_прибыль_убыток_от_продажи_rub']) / (df_2021['2020_заёмные_средства_долгосрочные_rub'] + df_2021['2020_заёмные_средства_краткосрочные_rub'])\n",
    "X5 = df_2021['2020_выручка_rub'] / AKTIVS\n",
    "df_2021['2016_Z'] = 0.717 * X1 + 0.847 * X2 + 3.107 * X3 + 0.420 * X4 + 0.998 * X5\n",
    "df_2021['2017_Z'] = 0.717 * X1 + 0.847 * X2 + 3.107 * X3 + 0.420 * X4 + 0.998 * X5\n",
    "df_2021['2018_Z'] = 0.717 * X1 + 0.847 * X2 + 3.107 * X3 + 0.420 * X4 + 0.998 * X5\n",
    "df_2021['2019_Z'] = 0.717 * X1 + 0.847 * X2 + 3.107 * X3 + 0.420 * X4 + 0.998 * X5\n",
    "df_2021['2020_Z'] = 0.717 * X1 + 0.847 * X2 + 3.107 * X3 + 0.420 * X4 + 0.998 * X5\n",
    "\n",
    "df_2021 = df_2021.replace([np.inf, -np.inf], np.nan)"
   ]
  },
  {
   "cell_type": "code",
   "execution_count": null,
   "metadata": {},
   "outputs": [],
   "source": [
    "df_2021.head(5)"
   ]
  },
  {
   "cell_type": "markdown",
   "metadata": {},
   "source": [
    "## Подготовка объединеных данных за 3 года"
   ]
  },
  {
   "cell_type": "code",
   "execution_count": null,
   "metadata": {},
   "outputs": [],
   "source": [
    "df_total = join_data(df_list)\n",
    "df_total.head(5)"
   ]
  },
  {
   "cell_type": "code",
   "execution_count": null,
   "metadata": {},
   "outputs": [],
   "source": [
    "#Генерация оборачиваемости дебиторской задолженности (год_ОДЗ)\n",
    "df_total['2020_одз'] = (2*df_total['2020_выручка_rub'] /(df_total['2019_дебиторская_задолженность_rub'] + df_total['2020_дебиторская_задолженность_rub']))\n",
    "df_total['2019_одз'] = (2*df_total['2019_выручка_rub'] /(df_total['2018_дебиторская_задолженность_rub'] + df_total['2019_дебиторская_задолженность_rub']))\n",
    "df_total['2018_одз'] = (2*df_total['2018_выручка_rub'] /(df_total['2017_дебиторская_задолженность_rub'] + df_total['2018_дебиторская_задолженность_rub']))\n",
    "df_total['2017_одз'] = (2*df_total['2017_выручка_rub'] /(df_total['2016_дебиторская_задолженность_rub'] + df_total['2017_дебиторская_задолженность_rub']))\n",
    "\n",
    "#Генерация периода погошения дебиторской задолженности (год_пгдз)\n",
    "df_total['2020_пгдз'] = 360 / df_total['2020_одз']\n",
    "df_total['2019_пгдз'] = 360 / df_total['2019_одз']\n",
    "df_total['2017_пгдз'] = 360 / df_total['2018_одз']\n",
    "df_total['2018_пгдз'] = 360 / df_total['2017_одз']\n",
    "\n",
    "#Генерация признака доля дебиторской задолженности в оборотных активах (год_ддзоа)\n",
    "df_total['2020_ддзоа'] = df_total['2020_дебиторская_задолженность_rub'] / df_total['2020_оборотные_активы_rub']\n",
    "df_total['2019_ддзоа'] = df_total['2019_дебиторская_задолженность_rub'] / df_total['2019_оборотные_активы_rub']\n",
    "df_total['2018_ддзоа'] = df_total['2018_дебиторская_задолженность_rub'] / df_total['2018_оборотные_активы_rub']\n",
    "df_total['2017_ддзоа'] = df_total['2017_дебиторская_задолженность_rub'] / df_total['2017_оборотные_активы_rub']\n",
    "df_total['2016_ддзоа'] = df_total['2016_дебиторская_задолженность_rub'] / df_total['2016_оборотные_активы_rub']\n",
    "\n",
    "#Пятифакторная модель Альтамана для компаний (оценка банкротсвта)\n",
    "#X1 = Оборотный капитал / Активы = (оборотные_активы_rub - краткосрочные_обязательства_rub) / (внеоборотные_активы_rub + оборотные_активы_rub + нематериальные_активы_rub)\n",
    "#X2 = Нераспределенная прибыль(Чистая прибыль) / Активы = прибыль_убыток_от_продажи_rub / (внеоборотные_активы_rub + оборотные_активы_rub + нематериальные_активы_rub)\n",
    "#X3 = Операционная прибыль(Прибыль до налогообложения) / Активы = прибыль_убыток_до_налогообложения__rub / (внеоборотные_активы_rub + оборотные_активы_rub + нематериальные_активы_rub)\n",
    "#X4 = Балансовая стоимость собственного капитала / Заёмный капитал = (уставный_капитал__rub + прибыль_убыток_от_продажи_rub) / (заёмные_средства_долгосрочные_rub + заёмные_средства_краткосрочные_rub)\n",
    "#X5 = Выручка / Активы = выручка_rub / (внеоборотные_активы_rub + оборотные_активы_rub + нематериальные_активы_rub)\n",
    "\n",
    "#Модель Альтамана для компаний 2016 год\n",
    "AKTIVS = (df_total['2016_внеоборотные_активы_rub'] + df_total['2016_оборотные_активы_rub'] + df_total['2016_нематериальные_активы_rub'])\n",
    "X1 = (df_total['2016_оборотные_активы_rub'] - df_total['2016_краткосрочные_обязательства_rub']) / AKTIVS\n",
    "X2 = df_total['2016_прибыль_убыток_от_продажи_rub'] / AKTIVS\n",
    "X3 = df_total['2016_прибыль_убыток_до_налогообложения__rub'] / AKTIVS\n",
    "X4 = (df_total['2016_уставный_капитал__rub'] + df_total['2016_прибыль_убыток_от_продажи_rub']) / (df_total['2016_заёмные_средства_долгосрочные_rub'] + df_total['2016_заёмные_средства_краткосрочные_rub'])\n",
    "X5 = df_total['2016_выручка_rub'] / AKTIVS\n",
    "df_total['2016_Z'] = 0.717 * X1 + 0.847 * X2 + 3.107 * X3 + 0.420 * X4 + 0.998 * X5\n",
    "\n",
    "#Модель Альтамана для компаний 2017 год\n",
    "AKTIVS = (df_total['2017_внеоборотные_активы_rub'] + df_total['2017_оборотные_активы_rub'] + df_total['2017_нематериальные_активы_rub'])\n",
    "X1 = (df_total['2017_оборотные_активы_rub'] - df_total['2017_краткосрочные_обязательства_rub']) / AKTIVS\n",
    "X2 = df_total['2017_прибыль_убыток_от_продажи_rub'] / AKTIVS\n",
    "X3 = df_total['2017_прибыль_убыток_до_налогообложения__rub'] / AKTIVS\n",
    "X4 = (df_total['2017_уставный_капитал__rub'] + df_total['2017_прибыль_убыток_от_продажи_rub']) / (df_total['2017_заёмные_средства_долгосрочные_rub'] + df_total['2017_заёмные_средства_краткосрочные_rub'])\n",
    "X5 = df_total['2017_выручка_rub'] / AKTIVS\n",
    "df_total['2017_Z'] = 0.717 * X1 + 0.847 * X2 + 3.107 * X3 + 0.420 * X4 + 0.998 * X5\n",
    "\n",
    "#Модель Альтамана для компаний 2018 год\n",
    "AKTIVS = (df_total['2018_внеоборотные_активы_rub'] + df_total['2018_оборотные_активы_rub'] + df_total['2018_нематериальные_активы_rub'])\n",
    "X1 = (df_total['2018_оборотные_активы_rub'] - df_total['2018_краткосрочные_обязательства_rub']) / AKTIVS\n",
    "X2 = df_total['2018_прибыль_убыток_от_продажи_rub'] / AKTIVS\n",
    "X3 = df_total['2018_прибыль_убыток_до_налогообложения__rub'] / AKTIVS\n",
    "X4 = (df_total['2018_уставный_капитал__rub'] + df_total['2018_прибыль_убыток_от_продажи_rub']) / (df_total['2018_заёмные_средства_долгосрочные_rub'] + df_total['2018_заёмные_средства_краткосрочные_rub'])\n",
    "X5 = df_total['2018_выручка_rub'] / AKTIVS\n",
    "df_total['2018_Z'] = 0.717 * X1 + 0.847 * X2 + 3.107 * X3 + 0.420 * X4 + 0.998 * X5\n",
    "\n",
    "#Модель Альтамана для компаний 2019 год\n",
    "AKTIVS = (df_total['2019_внеоборотные_активы_rub'] + df_total['2019_оборотные_активы_rub'] + df_total['2019_нематериальные_активы_rub'])\n",
    "X1 = (df_total['2019_оборотные_активы_rub'] - df_total['2019_краткосрочные_обязательства_rub']) / AKTIVS\n",
    "X2 = df_total['2019_прибыль_убыток_от_продажи_rub'] / AKTIVS\n",
    "X3 = df_total['2019_прибыль_убыток_до_налогообложения__rub'] / AKTIVS\n",
    "X4 = (df_total['2019_уставный_капитал__rub'] + df_total['2019_прибыль_убыток_от_продажи_rub']) / (df_total['2019_заёмные_средства_долгосрочные_rub'] + df_total['2019_заёмные_средства_краткосрочные_rub'])\n",
    "X5 = df_total['2019_выручка_rub'] / AKTIVS\n",
    "df_total['2019_Z'] = 0.717 * X1 + 0.847 * X2 + 3.107 * X3 + 0.420 * X4 + 0.998 * X5\n",
    "\n",
    "#Модель Альтамана для компаний 2020 год\n",
    "AKTIVS = (df_total['2020_внеоборотные_активы_rub'] + df_total['2020_оборотные_активы_rub'] + df_total['2020_нематериальные_активы_rub'])\n",
    "X1 = (df_total['2020_оборотные_активы_rub'] - df_total['2020_краткосрочные_обязательства_rub']) / AKTIVS\n",
    "X2 = df_total['2020_прибыль_убыток_от_продажи_rub'] / AKTIVS\n",
    "X3 = df_total['2020_прибыль_убыток_до_налогообложения__rub'] / AKTIVS\n",
    "X4 = (df_total['2020_уставный_капитал__rub'] + df_total['2020_прибыль_убыток_от_продажи_rub']) / (df_total['2020_заёмные_средства_долгосрочные_rub'] + df_total['2020_заёмные_средства_краткосрочные_rub'])\n",
    "X5 = df_total['2020_выручка_rub'] / AKTIVS\n",
    "df_total['2016_Z'] = 0.717 * X1 + 0.847 * X2 + 3.107 * X3 + 0.420 * X4 + 0.998 * X5\n",
    "df_total['2017_Z'] = 0.717 * X1 + 0.847 * X2 + 3.107 * X3 + 0.420 * X4 + 0.998 * X5\n",
    "df_total['2018_Z'] = 0.717 * X1 + 0.847 * X2 + 3.107 * X3 + 0.420 * X4 + 0.998 * X5\n",
    "df_total['2019_Z'] = 0.717 * X1 + 0.847 * X2 + 3.107 * X3 + 0.420 * X4 + 0.998 * X5\n",
    "df_total['2020_Z'] = 0.717 * X1 + 0.847 * X2 + 3.107 * X3 + 0.420 * X4 + 0.998 * X5\n",
    "\n",
    "df_total = df_total.replace([np.inf, -np.inf], np.nan)"
   ]
  },
  {
   "cell_type": "code",
   "execution_count": null,
   "metadata": {},
   "outputs": [],
   "source": [
    "df_by_years_total = prepare_data_for_model(df_total)\n",
    "df_by_years_total.head(5)"
   ]
  },
  {
   "cell_type": "code",
   "execution_count": null,
   "metadata": {},
   "outputs": [],
   "source": [
    "df_by_years_total.describe()"
   ]
  },
  {
   "cell_type": "code",
   "execution_count": null,
   "metadata": {},
   "outputs": [],
   "source": [
    "df_by_years_total = df_by_years_total.reindex(sorted(df_by_years_total.columns), axis=1)\n",
    "df_by_years_total.head(5)"
   ]
  },
  {
   "cell_type": "markdown",
   "metadata": {},
   "source": [
    "Выбрасываем колонки \"факт\""
   ]
  },
  {
   "cell_type": "code",
   "execution_count": null,
   "metadata": {},
   "outputs": [],
   "source": [
    "cols_to_drop = ['статус']\n",
    "for col_name in df_by_years_total.columns:\n",
    "    if 'факт' in col_name:\n",
    "        cols_to_drop.append(col_name)\n",
    "        \n",
    "df_by_years_total = df_by_years_total.drop(columns=cols_to_drop)"
   ]
  },
  {
   "cell_type": "code",
   "execution_count": null,
   "metadata": {},
   "outputs": [],
   "source": [
    "df_by_years_total.describe()"
   ]
  },
  {
   "cell_type": "markdown",
   "metadata": {},
   "source": [
    "Преобразование данных в тип float, формируем список cur_pdz_cols с колонками, содержащими информацию о ПДЗ для текущего года (для которого делаем прогноз)"
   ]
  },
  {
   "cell_type": "code",
   "execution_count": null,
   "metadata": {},
   "outputs": [],
   "source": [
    "for col_name in df_by_years_total.columns:\n",
    "    df_by_years_total[col_name] = df_by_years_total[col_name].fillna(df_by_years_total[col_name].median())\n",
    "#     df_by_years_total[col_name] = df_by_years_total[col_name].fillna(-1)"
   ]
  },
  {
   "cell_type": "code",
   "execution_count": null,
   "metadata": {},
   "outputs": [],
   "source": [
    "df_by_years_total.to_csv('df_by_years_total.csv', index=False)"
   ]
  },
  {
   "cell_type": "markdown",
   "metadata": {},
   "source": [
    "# Анализ данных"
   ]
  },
  {
   "cell_type": "markdown",
   "metadata": {},
   "source": [
    "## Анализ данных за 2021 год"
   ]
  },
  {
   "cell_type": "code",
   "execution_count": null,
   "metadata": {},
   "outputs": [],
   "source": [
    "df_2021['fact_pdz'] = df_2021['кол_во_раз_пдз_за_2021_год_шт'].apply(lambda x: 0 if x == 0 else 1)"
   ]
  },
  {
   "cell_type": "code",
   "execution_count": null,
   "metadata": {},
   "outputs": [],
   "source": [
    "change_cols = ['внеоборотные_активы_rub', 'выручка_rub', 'заёмные_средства_долгосрочные_rub', 'заёмные_средства_краткосрочные_rub', 'капитал_и_резервы_rub', \\\n",
    "               'кредиторская_задолженность_rub', 'нематериальные_активы_rub', 'оборотные_активы_rub', 'основные_средства__rub', 'прибыль_убыток_до_налогообложения__rub', \\\n",
    "               'прибыль_убыток_от_продажи_rub', 'себестоимость_продаж_rub', 'уставный_капитал__rub']\n",
    "\n",
    "for col_name in change_cols:\n",
    "    df_2021['{} 2020 - 2019'.format(col_name)] = df_2021['2020_{}'.format(col_name)] - df_2021['2019_{}'.format(col_name)]"
   ]
  },
  {
   "cell_type": "code",
   "execution_count": null,
   "metadata": {
    "scrolled": true
   },
   "outputs": [],
   "source": [
    "# Строим боксплот без выбросов\n",
    "N = len(df_2021.columns)//3 + 1\n",
    "\n",
    "plt.figure(figsize=(30,8*N))\n",
    "\n",
    "i=1\n",
    "for col_name in df_2021.columns:    \n",
    "    plt.subplot(N,3,i)\n",
    "    try:\n",
    "        plt.boxplot([df_2021.query('fact_pdz==0')[col_name].dropna(), df_2021.query('fact_pdz==1')[col_name].dropna()], showfliers=False)\n",
    "    except:\n",
    "        pass\n",
    "    \n",
    "    if '_Z' in col_name:\n",
    "        plt.axhline(y=1.23, color='r', linestyle='--', label='bankrupt')\n",
    "        plt.axhline(y=2.9, color='g', linestyle='--', label='uncertainty')\n",
    "        plt.legend()\n",
    "        \n",
    "    plt.title(col_name)\n",
    "    i+=1"
   ]
  },
  {
   "cell_type": "markdown",
   "metadata": {},
   "source": [
    "### Подготовка данных для кластеризации"
   ]
  },
  {
   "cell_type": "code",
   "execution_count": null,
   "metadata": {},
   "outputs": [],
   "source": [
    "cols_to_fillna_0 = []\n",
    "for col_name in df_2021.columns:\n",
    "    if 'факт' in col_name:\n",
    "        cols_to_fillna_0.append(col_name)\n",
    "        \n",
    "df_2021[cols_to_fillna_0] = df_2021[cols_to_fillna_0].fillna(0)"
   ]
  },
  {
   "cell_type": "markdown",
   "metadata": {},
   "source": [
    "### Кластеризация"
   ]
  },
  {
   "cell_type": "code",
   "execution_count": null,
   "metadata": {},
   "outputs": [],
   "source": [
    "# параметры для деления на кластеры\n",
    "cols = ['макс_пдз_за_2019_год_дней', 'кол_во_просрочек_свыше_5_ти_дней_за_2019_год_шт',\n",
    "        'кол_во_раз_пдз_за_2019_год_шт', 'макс_пдз_за_2020_год_дней', 'кол_во_просрочек_свыше_5_ти_дней_за_2020_год_шт', 'кол_во_раз_пдз_за_2020_год_шт',\n",
    "        '2020_нематериальные_активы_rub', '2020_основные_средства__rub',\n",
    "        '2020_внеоборотные_активы_rub', '2020_дебиторская_задолженность_rub', '2020_оборотные_активы_rub', '2020_уставный_капитал__rub',\n",
    "        '2020_капитал_и_резервы_rub', '2020_заёмные_средства_долгосрочные_rub', '2020_долгосрочные_обязательства_rub', '2020_заёмные_средства_краткосрочные_rub',\n",
    "        '2020_кредиторская_задолженность_rub', '2020_краткосрочные_обязательства_rub', '2020_выручка_rub', '2020_себестоимость_продаж_rub',\n",
    "        '2020_прибыль_убыток_до_налогообложения__rub', '2020_прибыль_убыток_от_продажи_rub',\n",
    "        'кол_во_раз_пдз_за_2021_год_шт']\n",
    "\n",
    "n_clust = 3\n",
    "\n",
    "# диаграмма рассеивания и гистограммы\n",
    "scatter_matrix(df_2021[cols], alpha=0.5, figsize=(30, 30))\n",
    "corr = df_2021[cols].corr()\n",
    "\n",
    "# нормирование данных перед кластеризацией\n",
    "from sklearn import preprocessing\n",
    "dataNorm = preprocessing.MinMaxScaler().fit_transform(df_2021[cols].values)\n",
    "dfNorm = df_2021[cols].copy()\n",
    "for idx in range(len(dfNorm.index)):\n",
    "    dfNorm.iloc[idx,:] = dataNorm[idx]\n",
    "\n",
    "# кластеризация\n",
    "clusters = AgglClustering(dfNorm, n_clust, plt_dendrogram = True)"
   ]
  },
  {
   "cell_type": "code",
   "execution_count": null,
   "metadata": {},
   "outputs": [],
   "source": [
    "# Строим боксплот без выбросов \n",
    "N = len(cols)//3 + 1\n",
    "\n",
    "plt.figure(figsize=(30,8*N))\n",
    "df_2021['I'] = dfNorm['I'].copy()\n",
    "\n",
    "i=1\n",
    "for col_name in cols:    \n",
    "    plt.subplot(N,3,i)\n",
    "    plt.boxplot([df_2021.query('I==0')[col_name], df_2021.query('I==1')[col_name], df_2021.query('I==2')[col_name]], showfliers=False)\n",
    "    plt.title(col_name)\n",
    "    i+=1"
   ]
  },
  {
   "cell_type": "code",
   "execution_count": null,
   "metadata": {},
   "outputs": [],
   "source": [
    "# ДИАГРАММЫ РАССЕИВАНИЯ ПО КЛАСТЕРАМ\n",
    "for i in range(len(cols)-1):\n",
    "    for j in range(i+1, len(cols)):\n",
    "        plt.figure(figsize=(10, 8))\n",
    "        plt.scatter(dataNorm[:,i], dataNorm[:,j], c=clusters.labels_, cmap='viridis')\n",
    "        plt.colorbar()\n",
    "        plt.xlabel(cols[i])\n",
    "        plt.ylabel(cols[j])"
   ]
  },
  {
   "cell_type": "code",
   "execution_count": null,
   "metadata": {},
   "outputs": [],
   "source": [
    "df_2021 = df_2021.drop(columns=['I'])"
   ]
  },
  {
   "cell_type": "markdown",
   "metadata": {},
   "source": [
    "### Матрица корреляций"
   ]
  },
  {
   "cell_type": "code",
   "execution_count": null,
   "metadata": {},
   "outputs": [],
   "source": [
    "cols = ['макс_пдз_за_2019_год_дней', 'кол_во_просрочек_свыше_5_ти_дней_за_2019_год_шт',\n",
    "        'кол_во_раз_пдз_за_2019_год_шт', 'макс_пдз_за_2020_год_дней', 'сред_пдз_за_2020_год_дней', 'кол_во_просрочек_свыше_5_ти_дней_за_2020_год_шт', \n",
    "        'кол_во_раз_пдз_за_2020_год_шт', '2020_нематериальные_активы_rub', '2020_основные_средства__rub',\n",
    "        '2020_внеоборотные_активы_rub', '2020_дебиторская_задолженность_rub', '2020_оборотные_активы_rub', '2020_уставный_капитал__rub',\n",
    "        '2020_капитал_и_резервы_rub', '2020_заёмные_средства_долгосрочные_rub', '2020_долгосрочные_обязательства_rub', '2020_заёмные_средства_краткосрочные_rub',\n",
    "        '2020_кредиторская_задолженность_rub', '2020_краткосрочные_обязательства_rub', '2020_выручка_rub', '2020_себестоимость_продаж_rub',\n",
    "        '2020_прибыль_убыток_до_налогообложения__rub', '2020_прибыль_убыток_от_продажи_rub', 'факт_59', 'факт_60',\n",
    "        'кол_во_раз_пдз_за_2021_год_шт']\n",
    "\n",
    "plt.figure(figsize=(30, 30))\n",
    "\n",
    "corr_matrix = df_2021[cols].corr()\n",
    "corr_matrix = np.round(corr_matrix, 2)\n",
    "corr_matrix[np.abs(corr_matrix) < 0.3] = 0\n",
    "\n",
    "sns.heatmap(corr_matrix, annot=True, linewidths=.5, cmap='coolwarm')\n",
    "\n",
    "plt.title('Correlation matrix')\n",
    "plt.show()"
   ]
  },
  {
   "cell_type": "markdown",
   "metadata": {},
   "source": [
    "## Анализ данных за 2019 и 2020 годы"
   ]
  },
  {
   "cell_type": "code",
   "execution_count": null,
   "metadata": {},
   "outputs": [],
   "source": [
    "df = pd.read_csv('df_by_years_total.csv').query('YY != 2021')"
   ]
  },
  {
   "cell_type": "code",
   "execution_count": null,
   "metadata": {},
   "outputs": [],
   "source": [
    "df = df.drop(columns='YY')\n",
    "for col_name in df.columns:\n",
    "    if 'итого' in col_name:\n",
    "        df = df.drop(columns=[col_name])\n",
    "df.head(5)"
   ]
  },
  {
   "cell_type": "code",
   "execution_count": null,
   "metadata": {
    "scrolled": true
   },
   "outputs": [],
   "source": [
    "cols = ['кол_во_просрочек_свыше_5_ти_дней_за_год_шт',\n",
    " 'кол_во_раз_пдз_за_год_шт',\n",
    " 'макс_пдз_за_год_дней',\n",
    " 'общая_сумма_пдз_свыше_5_ти_дней_за_год_руб',\n",
    " 'сред_пдз_за_год_дней']\n",
    "\n",
    "for col_name in df.columns:\n",
    "    if 'YY_1' in col_name:\n",
    "        cols.append(col_name)\n",
    "cols"
   ]
  },
  {
   "cell_type": "code",
   "execution_count": null,
   "metadata": {},
   "outputs": [],
   "source": [
    "# параметры для различного деления на кластеры\n",
    "n_clust = 2\n",
    "\n",
    "# диаграмма рассеивания и гистограммы\n",
    "scatter_matrix(df[cols], alpha=0.5, figsize=(30, 30))\n",
    "corr = df[cols].corr()\n",
    "print(df[cols].corr())\n",
    "\n",
    "# нормирование данных перед кластеризацией\n",
    "from sklearn import preprocessing\n",
    "dataNorm = preprocessing.MinMaxScaler().fit_transform(df[cols].values)\n",
    "dfNorm = df[cols].copy()\n",
    "for idx in range(len(dfNorm.index)):\n",
    "    dfNorm.iloc[idx,:] = dataNorm[idx]\n",
    "\n",
    "# кластеризация\n",
    "clusters = AgglClustering(dfNorm, n_clust, plt_dendrogram = True)"
   ]
  },
  {
   "cell_type": "code",
   "execution_count": null,
   "metadata": {},
   "outputs": [],
   "source": [
    "df['I'] = dfNorm['I'].copy()\n",
    "df.query('I==0').describe()"
   ]
  },
  {
   "cell_type": "code",
   "execution_count": null,
   "metadata": {},
   "outputs": [],
   "source": [
    "df[cols+['I']].groupby('I').mean()"
   ]
  },
  {
   "cell_type": "code",
   "execution_count": null,
   "metadata": {
    "scrolled": false
   },
   "outputs": [],
   "source": [
    "# Строим боксплот без выбросов\n",
    "N = len(cols)//3 + 1\n",
    "\n",
    "plt.figure(figsize=(30,8*N))\n",
    "\n",
    "i=1\n",
    "for col_name in cols:    \n",
    "    plt.subplot(N,3,i)\n",
    "    plt.boxplot([df.query('I==0')[col_name], df.query('I==1')[col_name]], showfliers=False)\n",
    "    plt.title(col_name)\n",
    "    i+=1"
   ]
  },
  {
   "cell_type": "code",
   "execution_count": null,
   "metadata": {},
   "outputs": [],
   "source": [
    "dfNorm.head(5)"
   ]
  },
  {
   "cell_type": "code",
   "execution_count": null,
   "metadata": {
    "scrolled": true
   },
   "outputs": [],
   "source": [
    "# ДИАГРАММЫ РАССЕИВАНИЯ ПО КЛАСТЕРАМ\n",
    "for i in range(len(cols)-1):\n",
    "    for j in range(i+1, len(cols)):\n",
    "        plt.figure(figsize=(10, 8))\n",
    "        plt.scatter(dataNorm[:,i], dataNorm[:,j], c=clusters.labels_, cmap='viridis')\n",
    "        plt.xlabel(cols[i])\n",
    "        plt.ylabel(cols[j])"
   ]
  },
  {
   "cell_type": "code",
   "execution_count": null,
   "metadata": {},
   "outputs": [],
   "source": [
    "plt.figure(figsize=(30, 30))\n",
    "\n",
    "corr_matrix = df[cols].corr()\n",
    "corr_matrix = np.round(corr_matrix, 2)\n",
    "corr_matrix[np.abs(corr_matrix) < 0.3] = 0\n",
    "\n",
    "sns.heatmap(corr_matrix, annot=True, linewidths=.5, cmap='coolwarm')\n",
    "\n",
    "plt.title('Correlation matrix')\n",
    "plt.show()"
   ]
  },
  {
   "cell_type": "markdown",
   "metadata": {},
   "source": [
    "## Анализ всех данных"
   ]
  },
  {
   "cell_type": "code",
   "execution_count": null,
   "metadata": {},
   "outputs": [],
   "source": [
    "df = pd.read_csv('df_by_years_total.csv')"
   ]
  },
  {
   "cell_type": "code",
   "execution_count": null,
   "metadata": {},
   "outputs": [],
   "source": [
    "list(df.columns)"
   ]
  },
  {
   "cell_type": "code",
   "execution_count": null,
   "metadata": {},
   "outputs": [],
   "source": [
    "df['fact_pdz'] = df['кол_во_раз_пдз_за_год_шт'].apply(lambda x: 0 if x == 0 else 1)"
   ]
  },
  {
   "cell_type": "code",
   "execution_count": null,
   "metadata": {},
   "outputs": [],
   "source": [
    "change_cols = ['внеоборотные_активы_rub', 'выручка_rub', 'заёмные_средства_долгосрочные_rub', 'заёмные_средства_краткосрочные_rub', 'капитал_и_резервы_rub', \\\n",
    "               'кредиторская_задолженность_rub', 'нематериальные_активы_rub', 'оборотные_активы_rub', 'основные_средства__rub', 'прибыль_убыток_до_налогообложения__rub', \\\n",
    "               'прибыль_убыток_от_продажи_rub', 'себестоимость_продаж_rub', 'уставный_капитал__rub']\n",
    "\n",
    "for col_name in change_cols:\n",
    "    for i in range(1,5):\n",
    "        df['YY_{}_{}_change'.format(i, col_name)] = df['YY_{}_{}'.format(i, col_name)] - df['YY_{}_{}'.format(i+1, col_name)]"
   ]
  },
  {
   "cell_type": "code",
   "execution_count": null,
   "metadata": {},
   "outputs": [],
   "source": [
    "df.head(5)"
   ]
  },
  {
   "cell_type": "code",
   "execution_count": null,
   "metadata": {},
   "outputs": [],
   "source": [
    "list(df.columns)"
   ]
  },
  {
   "cell_type": "code",
   "execution_count": null,
   "metadata": {},
   "outputs": [],
   "source": [
    "TARGET_NAME = 'fact_pdz'"
   ]
  },
  {
   "cell_type": "code",
   "execution_count": null,
   "metadata": {
    "scrolled": true
   },
   "outputs": [],
   "source": [
    "# Строим боксплот без выбросов\n",
    "N = len(df.columns)//3 + 1\n",
    "\n",
    "plt.figure(figsize=(30,8*N))\n",
    "\n",
    "i=1\n",
    "for col_name in df.columns:    \n",
    "    plt.subplot(N,3,i)\n",
    "    plt.boxplot([df.query('fact_pdz==0')[col_name].dropna(), df.query('fact_pdz==1')[col_name].dropna()], showfliers=False)\n",
    "    if '_Z' in col_name:\n",
    "        plt.axhline(y=1.23, color='r', linestyle='--', label='bankrupt')\n",
    "        plt.axhline(y=2.9, color='g', linestyle='--', label='uncertainty')\n",
    "        plt.legend()\n",
    "        print(col_name, len(df.query('fact_pdz==1 & {} > 1 & {} < 5'.format(col_name, col_name))[col_name].dropna()), df.query('fact_pdz==1')[col_name].min(), df.query('fact_pdz==1')[col_name].max())\n",
    "#         plt.ylim(2.5,3)\n",
    "    plt.title(col_name)\n",
    "    i+=1"
   ]
  },
  {
   "cell_type": "markdown",
   "metadata": {},
   "source": [
    "**Модель Альтмана позволяет выделить потенциально «плохих» контрагентов и может служить критерием для быстрой проверки контрагента.**\n",
    "\n",
    "**Небольшая компания с большей вероятностью погасит ДЗ в срок.**\n",
    "\n",
    "**Если у контрагента ранее была небольшая ПДЗ, скорее всего он и дальше будет возвращать ДЗ в срок.**\n",
    "\n",
    "**Имеет смысл обратить внимание на факторы 59, 60  (2021 г).**\n",
    "\n",
    "**Чем меньше изменений в финансовых показателях, тем меньше ПДЗ.**"
   ]
  }
 ],
 "metadata": {
  "celltoolbar": "Tags",
  "interpreter": {
   "hash": "a79c3f3062cf8e3ceef728f08d7b50ee438763059c9c0644ae722ea37b2dbc18"
  },
  "kernelspec": {
   "display_name": "Python 3",
   "language": "python",
   "name": "python3"
  },
  "language_info": {
   "codemirror_mode": {
    "name": "ipython",
    "version": 3
   },
   "file_extension": ".py",
   "mimetype": "text/x-python",
   "name": "python",
   "nbconvert_exporter": "python",
   "pygments_lexer": "ipython3",
   "version": "3.8.5"
  },
  "toc": {
   "base_numbering": 1,
   "nav_menu": {},
   "number_sections": true,
   "sideBar": true,
   "skip_h1_title": false,
   "title_cell": "Table of Contents",
   "title_sidebar": "Contents",
   "toc_cell": false,
   "toc_position": {
    "height": "calc(100% - 180px)",
    "left": "10px",
    "top": "150px",
    "width": "246.438px"
   },
   "toc_section_display": true,
   "toc_window_display": true
  }
 },
 "nbformat": 4,
 "nbformat_minor": 4
}
